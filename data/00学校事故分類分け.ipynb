{
 "cells": [
  {
   "cell_type": "markdown",
   "id": "48e6c67d-9325-46c0-b182-1348ed4cb341",
   "metadata": {},
   "source": [
    "## 学校事故データ分析"
   ]
  },
  {
   "cell_type": "markdown",
   "id": "af64ca0d-7cd9-4d1e-8f75-841a0153aeb1",
   "metadata": {},
   "source": [
    "日本スポーツ振興センターの公開情報よりデータをダウンロード<br>\n",
    "https://www.jpnsport.go.jp/anzen/anzen_school/anzen_school/tabid/822/Default.aspx<br>\n",
    "事故の発生状況から「登下校」「授業と休憩時間」「部活動」「学校行事」「その他」の５つに分類する<br>"
   ]
  },
  {
   "cell_type": "code",
   "execution_count": 1,
   "id": "afa07bd6-438c-45aa-9e14-476e8d5d797e",
   "metadata": {},
   "outputs": [
    {
     "name": "stdout",
     "output_type": "stream",
     "text": [
      "Index(['和暦', '給付年度', '記号', '重複事例', '種別', '被災学校種', '被災学年', '性別', '場合別1', '場合別2',\n",
      "       '競技種目', '通学方法', '発生場所1', '発生場所2', '遊具等', '災害発生時の状況'],\n",
      "      dtype='object')\n",
      "   和暦  給付年度    記号  重複事例        種別 被災学校種  被災学年 性別  場合別1      場合別2  競技種目 通学方法  \\\n",
      "0  平成    17  17死1  17供1        溺死     小     1  男  各教科等  体育（保健体育）    水泳  NaN   \n",
      "1  平成    17  17死2   NaN  中枢神経系突然死     小     1  女  各教科等  体育（保健体育）  鉄棒運動  NaN   \n",
      "2  平成    17  17死3   NaN    心臓系突然死     小     6  女  各教科等  体育（保健体育）  短距離走  NaN   \n",
      "\n",
      "             発生場所1       発生場所2  遊具等  \\\n",
      "0          学校外（園外）          道路  NaN   \n",
      "1  学校内・校舎外（園内・園舎外）  運動場・校庭（園庭）   鉄棒   \n",
      "2  学校内・校舎外（園内・園舎外）  運動場・校庭（園庭）  NaN   \n",
      "\n",
      "                                            災害発生時の状況  \n",
      "0  体育授業中、近くの温水プールでの水泳学習を終え、準備のできた児童から学校へ戻っていたが、当時...  \n",
      "1  体育の授業中、低鉄棒の上に腰をかける体勢から飛び降りる運動をしていた際、鉄棒から前向きに落下...  \n",
      "2  体育の授業中、運動会の１００メートル走の練習として本生徒が１００mを走った際、ゴールした後に...  \n"
     ]
    }
   ],
   "source": [
    "import pandas as pd\n",
    "\n",
    "# ファイル読み込み\n",
    "df = pd.read_excel(\"sibou(2025.01.31).xlsx\")\n",
    "\n",
    "# 中身の確認（どの列に事故状況が書かれているか）\n",
    "print(df.columns)\n",
    "print(df.head(3))"
   ]
  },
  {
   "cell_type": "code",
   "execution_count": 2,
   "id": "aaa65677-8025-45ea-8cfe-12da17bc4a6e",
   "metadata": {},
   "outputs": [
    {
     "name": "stdout",
     "output_type": "stream",
     "text": [
      "['各教科等' '特別活動（除学校行事）' '学校行事' '課外指導' '休憩時間' '通学中' '保育中' '寄宿舎にあるとき'\n",
      " '技能連携授業中']\n"
     ]
    }
   ],
   "source": [
    "print(df[\"場合別1\"].unique())"
   ]
  },
  {
   "cell_type": "code",
   "execution_count": 3,
   "id": "55aa354e-90b9-491f-80c6-6a2dac9e6af0",
   "metadata": {},
   "outputs": [
    {
     "name": "stdout",
     "output_type": "stream",
     "text": [
      "['体育（保健体育）' '総合的な学習の時間' '給食指導' '文化的行事' '水泳指導' '休憩時間中' '昼食時休憩時間中'\n",
      " '始業前の特定時間中' '下校（降園）中' 'その他の教科' '学級（ホームルーム）活動' 'その他' '修学旅行' '体育的部活動'\n",
      " '文化的部活動' '授業終了後の特定時間中' '登校（登園）中' '競技大会・球技大会' 'その他集団宿泊的行事' nan '日常の清掃'\n",
      " 'その他儀式的行事' '運動会・体育祭' 'その他学級活動' '児童（生徒・学生）会活動' '大掃除' '通学（通園）に準ずるとき'\n",
      " 'その他健康安全・体育的行事' '臨海学校' '理科' '遠足' '図画工作（美術）' '家庭（技術・家庭）' '朝会' '工業' '自立活動']\n"
     ]
    }
   ],
   "source": [
    "print(df[\"場合別2\"].unique())"
   ]
  },
  {
   "cell_type": "code",
   "execution_count": 4,
   "id": "2497fef4-73e5-4b3d-a2d8-e29f65fd8f66",
   "metadata": {},
   "outputs": [
    {
     "name": "stdout",
     "output_type": "stream",
     "text": [
      "分類カテゴリ_場合別2\n",
      "授業と休憩時間    325\n",
      "部活動        270\n",
      "登下校        265\n",
      "その他        223\n",
      "学校行事        68\n",
      "Name: count, dtype: int64\n"
     ]
    }
   ],
   "source": [
    "def map_by_case2(value):\n",
    "    if pd.isnull(value):\n",
    "        return \"その他\"\n",
    "    \n",
    "    # 授業・休憩系\n",
    "    if value in ['体育（保健体育）', '理科', '図画工作（美術）', '家庭（技術・家庭）', \n",
    "                 '総合的な学習の時間', 'その他の教科', '学級（ホームルーム）活動',\n",
    "                 '給食指導', '日常の清掃', '大掃除', '休憩時間中', '昼食時休憩時間中']:\n",
    "        return \"授業と休憩時間\"\n",
    "    \n",
    "    # 登下校系\n",
    "    elif value in ['登校（登園）中', '下校（降園）中', '通学（通園）に準ずるとき']:\n",
    "        return \"登下校\"\n",
    "    \n",
    "    # 学校行事系\n",
    "    elif value in ['修学旅行', '遠足', '臨海学校', '運動会・体育祭', '文化的行事',\n",
    "                   'その他健康安全・体育的行事', 'その他儀式的行事', 'その他学級活動', \n",
    "                   '児童（生徒・学生）会活動', '朝会', 'その他集団宿泊的行事']:\n",
    "        return \"学校行事\"\n",
    "    \n",
    "    # 部活動\n",
    "    elif value in ['体育的部活動', '文化的部活動', '競技大会・球技大会']:\n",
    "        return \"部活動\"\n",
    "    \n",
    "    # その他（分類不能 or 特定時間など）\n",
    "    elif value in ['授業終了後の特定時間中', '始業前の特定時間中', 'その他', '自立活動']:\n",
    "        return \"その他\"\n",
    "\n",
    "    else:\n",
    "        return \"その他\"\n",
    "\n",
    "# 新しい分類列を追加\n",
    "df[\"分類カテゴリ_場合別2\"] = df[\"場合別2\"].apply(map_by_case2)\n",
    "\n",
    "# 分布を確認\n",
    "print(df[\"分類カテゴリ_場合別2\"].value_counts(dropna=False))\n"
   ]
  },
  {
   "cell_type": "code",
   "execution_count": 5,
   "id": "0b7d3f3c-85ae-47a9-96ed-c7e3b4f1acba",
   "metadata": {},
   "outputs": [
    {
     "data": {
      "text/html": [
       "<div>\n",
       "<style scoped>\n",
       "    .dataframe tbody tr th:only-of-type {\n",
       "        vertical-align: middle;\n",
       "    }\n",
       "\n",
       "    .dataframe tbody tr th {\n",
       "        vertical-align: top;\n",
       "    }\n",
       "\n",
       "    .dataframe thead th {\n",
       "        text-align: right;\n",
       "    }\n",
       "</style>\n",
       "<table border=\"1\" class=\"dataframe\">\n",
       "  <thead>\n",
       "    <tr style=\"text-align: right;\">\n",
       "      <th></th>\n",
       "      <th>和暦</th>\n",
       "      <th>給付年度</th>\n",
       "      <th>記号</th>\n",
       "      <th>重複事例</th>\n",
       "      <th>種別</th>\n",
       "      <th>被災学校種</th>\n",
       "      <th>被災学年</th>\n",
       "      <th>性別</th>\n",
       "      <th>場合別1</th>\n",
       "      <th>場合別2</th>\n",
       "      <th>競技種目</th>\n",
       "      <th>通学方法</th>\n",
       "      <th>発生場所1</th>\n",
       "      <th>発生場所2</th>\n",
       "      <th>遊具等</th>\n",
       "      <th>災害発生時の状況</th>\n",
       "      <th>分類カテゴリ_場合別2</th>\n",
       "    </tr>\n",
       "  </thead>\n",
       "  <tbody>\n",
       "    <tr>\n",
       "      <th>0</th>\n",
       "      <td>平成</td>\n",
       "      <td>17</td>\n",
       "      <td>17死1</td>\n",
       "      <td>17供1</td>\n",
       "      <td>溺死</td>\n",
       "      <td>小</td>\n",
       "      <td>1</td>\n",
       "      <td>男</td>\n",
       "      <td>各教科等</td>\n",
       "      <td>体育（保健体育）</td>\n",
       "      <td>水泳</td>\n",
       "      <td>NaN</td>\n",
       "      <td>学校外（園外）</td>\n",
       "      <td>道路</td>\n",
       "      <td>NaN</td>\n",
       "      <td>体育授業中、近くの温水プールでの水泳学習を終え、準備のできた児童から学校へ戻っていたが、当時...</td>\n",
       "      <td>授業と休憩時間</td>\n",
       "    </tr>\n",
       "    <tr>\n",
       "      <th>1</th>\n",
       "      <td>平成</td>\n",
       "      <td>17</td>\n",
       "      <td>17死2</td>\n",
       "      <td>NaN</td>\n",
       "      <td>中枢神経系突然死</td>\n",
       "      <td>小</td>\n",
       "      <td>1</td>\n",
       "      <td>女</td>\n",
       "      <td>各教科等</td>\n",
       "      <td>体育（保健体育）</td>\n",
       "      <td>鉄棒運動</td>\n",
       "      <td>NaN</td>\n",
       "      <td>学校内・校舎外（園内・園舎外）</td>\n",
       "      <td>運動場・校庭（園庭）</td>\n",
       "      <td>鉄棒</td>\n",
       "      <td>体育の授業中、低鉄棒の上に腰をかける体勢から飛び降りる運動をしていた際、鉄棒から前向きに落下...</td>\n",
       "      <td>授業と休憩時間</td>\n",
       "    </tr>\n",
       "    <tr>\n",
       "      <th>2</th>\n",
       "      <td>平成</td>\n",
       "      <td>17</td>\n",
       "      <td>17死3</td>\n",
       "      <td>NaN</td>\n",
       "      <td>心臓系突然死</td>\n",
       "      <td>小</td>\n",
       "      <td>6</td>\n",
       "      <td>女</td>\n",
       "      <td>各教科等</td>\n",
       "      <td>体育（保健体育）</td>\n",
       "      <td>短距離走</td>\n",
       "      <td>NaN</td>\n",
       "      <td>学校内・校舎外（園内・園舎外）</td>\n",
       "      <td>運動場・校庭（園庭）</td>\n",
       "      <td>NaN</td>\n",
       "      <td>体育の授業中、運動会の１００メートル走の練習として本生徒が１００mを走った際、ゴールした後に...</td>\n",
       "      <td>授業と休憩時間</td>\n",
       "    </tr>\n",
       "    <tr>\n",
       "      <th>3</th>\n",
       "      <td>平成</td>\n",
       "      <td>17</td>\n",
       "      <td>17死4</td>\n",
       "      <td>NaN</td>\n",
       "      <td>心臓系突然死</td>\n",
       "      <td>小</td>\n",
       "      <td>6</td>\n",
       "      <td>男</td>\n",
       "      <td>各教科等</td>\n",
       "      <td>体育（保健体育）</td>\n",
       "      <td>短距離走</td>\n",
       "      <td>NaN</td>\n",
       "      <td>学校内・校舎外（園内・園舎外）</td>\n",
       "      <td>運動場・校庭（園庭）</td>\n",
       "      <td>NaN</td>\n",
       "      <td>体育の時間に、リレー（トラック半周５５ｍ）を自分の走れる速さで走っていたところ、第２コーナー...</td>\n",
       "      <td>授業と休憩時間</td>\n",
       "    </tr>\n",
       "    <tr>\n",
       "      <th>4</th>\n",
       "      <td>平成</td>\n",
       "      <td>17</td>\n",
       "      <td>17死5</td>\n",
       "      <td>NaN</td>\n",
       "      <td>心臓系突然死</td>\n",
       "      <td>小</td>\n",
       "      <td>5</td>\n",
       "      <td>女</td>\n",
       "      <td>各教科等</td>\n",
       "      <td>総合的な学習の時間</td>\n",
       "      <td>NaN</td>\n",
       "      <td>NaN</td>\n",
       "      <td>学校内・校舎内（園内・園舎内）</td>\n",
       "      <td>実習実験室</td>\n",
       "      <td>NaN</td>\n",
       "      <td>調理実習中、食器を洗っていた際、突然倒れた。倒れたときは、全身が震えすぐにチアノーゼがあらわ...</td>\n",
       "      <td>授業と休憩時間</td>\n",
       "    </tr>\n",
       "    <tr>\n",
       "      <th>...</th>\n",
       "      <td>...</td>\n",
       "      <td>...</td>\n",
       "      <td>...</td>\n",
       "      <td>...</td>\n",
       "      <td>...</td>\n",
       "      <td>...</td>\n",
       "      <td>...</td>\n",
       "      <td>...</td>\n",
       "      <td>...</td>\n",
       "      <td>...</td>\n",
       "      <td>...</td>\n",
       "      <td>...</td>\n",
       "      <td>...</td>\n",
       "      <td>...</td>\n",
       "      <td>...</td>\n",
       "      <td>...</td>\n",
       "      <td>...</td>\n",
       "    </tr>\n",
       "    <tr>\n",
       "      <th>1146</th>\n",
       "      <td>令和</td>\n",
       "      <td>5</td>\n",
       "      <td>2023死32</td>\n",
       "      <td>NaN</td>\n",
       "      <td>全身打撲</td>\n",
       "      <td>高専</td>\n",
       "      <td>5</td>\n",
       "      <td>男</td>\n",
       "      <td>通学中</td>\n",
       "      <td>下校（降園）中</td>\n",
       "      <td>NaN</td>\n",
       "      <td>鉄道</td>\n",
       "      <td>学校外（園外）</td>\n",
       "      <td>その他</td>\n",
       "      <td>NaN</td>\n",
       "      <td>下校中、激しい腹痛でふらつき、駅のホームから転落したところを電車にひかれ、同日死亡した。</td>\n",
       "      <td>登下校</td>\n",
       "    </tr>\n",
       "    <tr>\n",
       "      <th>1147</th>\n",
       "      <td>令和</td>\n",
       "      <td>5</td>\n",
       "      <td>2023死33</td>\n",
       "      <td>NaN</td>\n",
       "      <td>頭部外傷</td>\n",
       "      <td>特高</td>\n",
       "      <td>2</td>\n",
       "      <td>男</td>\n",
       "      <td>特別活動（除学校行事）</td>\n",
       "      <td>学級（ホームルーム）活動</td>\n",
       "      <td>NaN</td>\n",
       "      <td>NaN</td>\n",
       "      <td>学校内・校舎内（園内・園舎内）</td>\n",
       "      <td>その他</td>\n",
       "      <td>NaN</td>\n",
       "      <td>学級（ホームルーム）活動中、トイレから帰ってこない本生徒を教員が探したところ、２階ひさしに出...</td>\n",
       "      <td>授業と休憩時間</td>\n",
       "    </tr>\n",
       "    <tr>\n",
       "      <th>1148</th>\n",
       "      <td>令和</td>\n",
       "      <td>5</td>\n",
       "      <td>2023死34</td>\n",
       "      <td>NaN</td>\n",
       "      <td>心臓系突然死</td>\n",
       "      <td>特高</td>\n",
       "      <td>2</td>\n",
       "      <td>男</td>\n",
       "      <td>学校行事</td>\n",
       "      <td>修学旅行</td>\n",
       "      <td>NaN</td>\n",
       "      <td>NaN</td>\n",
       "      <td>学校外（園外）</td>\n",
       "      <td>その他</td>\n",
       "      <td>NaN</td>\n",
       "      <td>修学旅行中、２日目の夕方、体調不良のため部屋で休んでいた際、急にチアノーゼの症状が出て呼吸し...</td>\n",
       "      <td>学校行事</td>\n",
       "    </tr>\n",
       "    <tr>\n",
       "      <th>1149</th>\n",
       "      <td>令和</td>\n",
       "      <td>5</td>\n",
       "      <td>2023死35</td>\n",
       "      <td>NaN</td>\n",
       "      <td>窒息死（溺死以外）</td>\n",
       "      <td>保</td>\n",
       "      <td>2</td>\n",
       "      <td>男</td>\n",
       "      <td>保育中</td>\n",
       "      <td>NaN</td>\n",
       "      <td>NaN</td>\n",
       "      <td>NaN</td>\n",
       "      <td>学校内・校舎外（園内・園舎外）</td>\n",
       "      <td>運動場・校庭（園庭）</td>\n",
       "      <td>総合遊具・アスレティック</td>\n",
       "      <td>保育中、園庭の大型遊具で遊んでいた際、遊具内に設置されていた柵と天井の隙間に首が挟まっている...</td>\n",
       "      <td>その他</td>\n",
       "    </tr>\n",
       "    <tr>\n",
       "      <th>1150</th>\n",
       "      <td>令和</td>\n",
       "      <td>5</td>\n",
       "      <td>2023死36</td>\n",
       "      <td>NaN</td>\n",
       "      <td>窒息死（溺死以外）</td>\n",
       "      <td>保</td>\n",
       "      <td>1</td>\n",
       "      <td>女</td>\n",
       "      <td>保育中</td>\n",
       "      <td>NaN</td>\n",
       "      <td>NaN</td>\n",
       "      <td>NaN</td>\n",
       "      <td>学校内・校舎内（園内・園舎内）</td>\n",
       "      <td>教室（保育室）</td>\n",
       "      <td>NaN</td>\n",
       "      <td>保育中、保育室で給食のりんごを食べていた際、そしゃく中に眠そうなそぶりが見られたため声を掛け...</td>\n",
       "      <td>その他</td>\n",
       "    </tr>\n",
       "  </tbody>\n",
       "</table>\n",
       "<p>1151 rows × 17 columns</p>\n",
       "</div>"
      ],
      "text/plain": [
       "      和暦  給付年度       記号  重複事例         種別 被災学校種  被災学年 性別         場合別1  \\\n",
       "0     平成    17     17死1  17供1         溺死     小     1  男         各教科等   \n",
       "1     平成    17     17死2   NaN   中枢神経系突然死     小     1  女         各教科等   \n",
       "2     平成    17     17死3   NaN     心臓系突然死     小     6  女         各教科等   \n",
       "3     平成    17     17死4   NaN     心臓系突然死     小     6  男         各教科等   \n",
       "4     平成    17     17死5   NaN     心臓系突然死     小     5  女         各教科等   \n",
       "...   ..   ...      ...   ...        ...   ...   ... ..          ...   \n",
       "1146  令和     5  2023死32   NaN       全身打撲    高専     5  男          通学中   \n",
       "1147  令和     5  2023死33   NaN       頭部外傷    特高     2  男  特別活動（除学校行事）   \n",
       "1148  令和     5  2023死34   NaN     心臓系突然死    特高     2  男         学校行事   \n",
       "1149  令和     5  2023死35   NaN  窒息死（溺死以外）     保     2  男          保育中   \n",
       "1150  令和     5  2023死36   NaN  窒息死（溺死以外）     保     1  女          保育中   \n",
       "\n",
       "              場合別2  競技種目 通学方法            発生場所1       発生場所2           遊具等  \\\n",
       "0         体育（保健体育）    水泳  NaN          学校外（園外）          道路           NaN   \n",
       "1         体育（保健体育）  鉄棒運動  NaN  学校内・校舎外（園内・園舎外）  運動場・校庭（園庭）            鉄棒   \n",
       "2         体育（保健体育）  短距離走  NaN  学校内・校舎外（園内・園舎外）  運動場・校庭（園庭）           NaN   \n",
       "3         体育（保健体育）  短距離走  NaN  学校内・校舎外（園内・園舎外）  運動場・校庭（園庭）           NaN   \n",
       "4        総合的な学習の時間   NaN  NaN  学校内・校舎内（園内・園舎内）       実習実験室           NaN   \n",
       "...            ...   ...  ...              ...         ...           ...   \n",
       "1146       下校（降園）中   NaN   鉄道          学校外（園外）         その他           NaN   \n",
       "1147  学級（ホームルーム）活動   NaN  NaN  学校内・校舎内（園内・園舎内）         その他           NaN   \n",
       "1148          修学旅行   NaN  NaN          学校外（園外）         その他           NaN   \n",
       "1149           NaN   NaN  NaN  学校内・校舎外（園内・園舎外）  運動場・校庭（園庭）  総合遊具・アスレティック   \n",
       "1150           NaN   NaN  NaN  学校内・校舎内（園内・園舎内）     教室（保育室）           NaN   \n",
       "\n",
       "                                               災害発生時の状況 分類カテゴリ_場合別2  \n",
       "0     体育授業中、近くの温水プールでの水泳学習を終え、準備のできた児童から学校へ戻っていたが、当時...     授業と休憩時間  \n",
       "1     体育の授業中、低鉄棒の上に腰をかける体勢から飛び降りる運動をしていた際、鉄棒から前向きに落下...     授業と休憩時間  \n",
       "2     体育の授業中、運動会の１００メートル走の練習として本生徒が１００mを走った際、ゴールした後に...     授業と休憩時間  \n",
       "3     体育の時間に、リレー（トラック半周５５ｍ）を自分の走れる速さで走っていたところ、第２コーナー...     授業と休憩時間  \n",
       "4     調理実習中、食器を洗っていた際、突然倒れた。倒れたときは、全身が震えすぐにチアノーゼがあらわ...     授業と休憩時間  \n",
       "...                                                 ...         ...  \n",
       "1146       下校中、激しい腹痛でふらつき、駅のホームから転落したところを電車にひかれ、同日死亡した。         登下校  \n",
       "1147  学級（ホームルーム）活動中、トイレから帰ってこない本生徒を教員が探したところ、２階ひさしに出...     授業と休憩時間  \n",
       "1148  修学旅行中、２日目の夕方、体調不良のため部屋で休んでいた際、急にチアノーゼの症状が出て呼吸し...        学校行事  \n",
       "1149  保育中、園庭の大型遊具で遊んでいた際、遊具内に設置されていた柵と天井の隙間に首が挟まっている...         その他  \n",
       "1150  保育中、保育室で給食のりんごを食べていた際、そしゃく中に眠そうなそぶりが見られたため声を掛け...         その他  \n",
       "\n",
       "[1151 rows x 17 columns]"
      ]
     },
     "execution_count": 5,
     "metadata": {},
     "output_type": "execute_result"
    }
   ],
   "source": [
    "df"
   ]
  },
  {
   "cell_type": "code",
   "execution_count": 6,
   "id": "de6e4a63-23d0-44eb-95dc-da17dc4a2bed",
   "metadata": {},
   "outputs": [],
   "source": [
    "# ファイルとして保存（例：分類済み_死亡.xlsx）\n",
    "df.to_excel(\"分類済み_死亡_場合別2.xlsx\", index=False)"
   ]
  },
  {
   "cell_type": "markdown",
   "id": "e934373c-cc1b-452c-8c0f-9cae8716942f",
   "metadata": {},
   "source": [
    "### 障害"
   ]
  },
  {
   "cell_type": "code",
   "execution_count": 7,
   "id": "32709e85-3158-4e48-8145-67fe3b46fca0",
   "metadata": {},
   "outputs": [
    {
     "name": "stdout",
     "output_type": "stream",
     "text": [
      "Index(['和暦', '給付年度', '記号', '種別', '被災学校種', '被災学年', '性別', '場合別1', '場合別2', '競技種目',\n",
      "       '通学方法', '発生場所1', '発生場所2', '遊具等', '災害発生時の状況'],\n",
      "      dtype='object')\n",
      "   和暦  給付年度    記号            種別 被災学校種  被災学年 性別  場合別1 場合別2 競技種目 通学方法  \\\n",
      "0  平成    17  17障1  外貌・露出部分の醜状障害     小     4  男  各教科等   理科  NaN  NaN   \n",
      "1  平成    17  17障2  外貌・露出部分の醜状障害     小     5  女  各教科等   理科  NaN  NaN   \n",
      "2  平成    17  17障3  外貌・露出部分の醜状障害     小     6  男  各教科等   理科  NaN  NaN   \n",
      "\n",
      "             発生場所1       発生場所2  遊具等  \\\n",
      "0  学校内・校舎外（園内・園舎外）  運動場・校庭（園庭）  NaN   \n",
      "1  学校内・校舎内（園内・園舎内）       実習実験室  NaN   \n",
      "2  学校内・校舎内（園内・園舎内）       実習実験室  NaN   \n",
      "\n",
      "                                            災害発生時の状況  \n",
      "0  理科の授業中、運動場で熱気球を飛ばす実験をしていた。黒いビニール袋に針金を通して熱気球を作り...  \n",
      "1  理科の実験中、他の児童が砂糖を溶かした容器が熱くて持ちきれなくなり、手を離した際、それが右手...  \n",
      "2  理科実験中に、ペットボトルの中のアルコールに引火し、その勢いで炎と共にアルコールが射出し、左...  \n"
     ]
    }
   ],
   "source": [
    "import pandas as pd\n",
    "\n",
    "# ファイル読み込み\n",
    "df = pd.read_excel(\"shougai(2025.01.31).xlsx\")\n",
    "\n",
    "# 中身の確認（どの列に事故状況が書かれているか）\n",
    "print(df.columns)\n",
    "print(df.head(3))"
   ]
  },
  {
   "cell_type": "code",
   "execution_count": 8,
   "id": "a34bfcf2-6274-41cc-a599-3d9e8b608836",
   "metadata": {},
   "outputs": [
    {
     "name": "stdout",
     "output_type": "stream",
     "text": [
      "['理科' '図画工作（美術）' '家庭（技術・家庭）' '体育（保健体育）' 'その他の教科' 'その他学級活動' '給食指導' '日常の清掃'\n",
      " '学級（ホームルーム）活動' '文化的クラブ活動' 'その他健康安全・体育的行事' '修学旅行' 'その他集団宿泊的行事' '大掃除'\n",
      " '勤労生産・奉仕的行事' '体育的部活動' '水泳指導' '休憩時間中' '昼食時休憩時間中' '始業前の特定時間中' '授業終了後の特定時間中'\n",
      " nan '登校（登園）中' '下校（降園）中' '児童（生徒・学生）会活動' '文化的行事' '運動会・体育祭' '競技大会・球技大会'\n",
      " '通学（通園）に準ずるとき' '農業' '自立活動' 'その他' '文化的部活動' '総合的な学習の時間' '体育的クラブ活動' '遠足'\n",
      " '工業' 'その他儀式的行事' '林間学校' '道徳']\n"
     ]
    }
   ],
   "source": [
    "print(df[\"場合別2\"].unique())"
   ]
  },
  {
   "cell_type": "code",
   "execution_count": 9,
   "id": "866ae9ae-b4c2-4865-988d-cfbba3ef69a8",
   "metadata": {},
   "outputs": [],
   "source": [
    "def classify_case2(value):\n",
    "    if pd.isnull(value):\n",
    "        return \"その他\"\n",
    "    \n",
    "    # 授業と休憩時間\n",
    "    if value in ['理科', '図画工作（美術）', '家庭（技術・家庭）', '体育（保健体育）',\n",
    "                 'その他の教科', 'その他学級活動', '給食指導', '日常の清掃', '水泳指導',\n",
    "                 '学級（ホームルーム）活動', '休憩時間中', '昼食時休憩時間中',\n",
    "                 '始業前の特定時間中', '授業終了後の特定時間中', '児童（生徒・学生）会活動',\n",
    "                 '農業', '自立活動', '総合的な学習の時間', '工業', 'その他儀式的行事', '道徳']:\n",
    "        return \"授業と休憩時間\"\n",
    "    \n",
    "    # 部活動\n",
    "    elif value in ['文化的クラブ活動', '体育的部活動', '文化的部活動', '体育的クラブ活動']:\n",
    "        return \"部活動\"\n",
    "    \n",
    "    # 学校行事\n",
    "    elif value in ['その他健康安全・体育的行事', '修学旅行', 'その他集団宿泊的行事', '大掃除',\n",
    "                   '勤労生産・奉仕的行事', '文化的行事', '運動会・体育祭', '競技大会・球技大会',\n",
    "                   '遠足', '林間学校']:\n",
    "        return \"学校行事\"\n",
    "    \n",
    "    # 登下校\n",
    "    elif value in ['登校（登園）中', '下校（降園）中', '通学（通園）に準ずるとき']:\n",
    "        return \"登下校\"\n",
    "    \n",
    "    # それ以外\n",
    "    else:\n",
    "        return \"その他\""
   ]
  },
  {
   "cell_type": "code",
   "execution_count": 10,
   "id": "1dbb350c-fd8a-496d-b558-e9e5c0514d56",
   "metadata": {},
   "outputs": [],
   "source": [
    "df[\"分類カテゴリ_場合別2\"] = df[\"場合別2\"].apply(classify_case2)"
   ]
  },
  {
   "cell_type": "code",
   "execution_count": 11,
   "id": "0e43e65f-20ea-4672-ae41-e31f7800777d",
   "metadata": {},
   "outputs": [
    {
     "name": "stdout",
     "output_type": "stream",
     "text": [
      "分類カテゴリ_場合別2\n",
      "授業と休憩時間    3440\n",
      "部活動        2830\n",
      "登下校         590\n",
      "その他         465\n",
      "学校行事        357\n",
      "Name: count, dtype: int64\n"
     ]
    }
   ],
   "source": [
    "# 分類の分布を確認\n",
    "print(df[\"分類カテゴリ_場合別2\"].value_counts(dropna=False))"
   ]
  },
  {
   "cell_type": "code",
   "execution_count": 12,
   "id": "44e2ad39-a54c-4eab-add6-58292bdc367f",
   "metadata": {},
   "outputs": [],
   "source": [
    "# ファイルとして保存（例：分類済み_障害.xlsx）\n",
    "df.to_excel(\"分類済み_障害_場合別2.xlsx\", index=False)"
   ]
  },
  {
   "cell_type": "code",
   "execution_count": 13,
   "id": "831b5a46-8313-45e3-be7a-977542328c3f",
   "metadata": {},
   "outputs": [],
   "source": [
    "# 場合別1が「保育中」の行は、分類を「授業と休憩時間」に上書き\n",
    "df.loc[df[\"場合別1\"] == \"保育中\", \"分類カテゴリ_場合別2\"] = \"授業と休憩時間\""
   ]
  },
  {
   "cell_type": "code",
   "execution_count": 14,
   "id": "41765e6f-9ad8-43c4-b08d-2cd66d3b4b3f",
   "metadata": {},
   "outputs": [
    {
     "name": "stdout",
     "output_type": "stream",
     "text": [
      "分類カテゴリ_場合別2\n",
      "授業と休憩時間    380\n",
      "Name: count, dtype: int64\n"
     ]
    }
   ],
   "source": [
    "# 保育中が正しく上書きされたか確認\n",
    "print(df[df[\"場合別1\"] == \"保育中\"][\"分類カテゴリ_場合別2\"].value_counts())"
   ]
  },
  {
   "cell_type": "code",
   "execution_count": 15,
   "id": "7c5a43a6-a752-4358-958b-22b46956189a",
   "metadata": {},
   "outputs": [
    {
     "name": "stdout",
     "output_type": "stream",
     "text": [
      "分類カテゴリ_場合別2\n",
      "授業と休憩時間    3820\n",
      "部活動        2830\n",
      "登下校         590\n",
      "学校行事        357\n",
      "その他          85\n",
      "Name: count, dtype: int64\n"
     ]
    }
   ],
   "source": [
    "print(df[\"分類カテゴリ_場合別2\"].value_counts(dropna=False))"
   ]
  },
  {
   "cell_type": "code",
   "execution_count": 16,
   "id": "d67ced38-22c1-48c4-a7c8-90f0023e31f5",
   "metadata": {},
   "outputs": [],
   "source": [
    "# ファイルとして保存（例：分類済み_障害.xlsx）\n",
    "df.to_excel(\"改_分類済み_障害_場合別2.xlsx\", index=False)"
   ]
  },
  {
   "cell_type": "markdown",
   "id": "1ca55f07-bdfa-4507-8e9b-3c7b0042f478",
   "metadata": {},
   "source": [
    "### 障害はこのデータで、死亡は手作業で確認をした上で再びインポート"
   ]
  },
  {
   "cell_type": "code",
   "execution_count": 17,
   "id": "ea5c0746-bb64-43be-9f95-f8b475c8d0a4",
   "metadata": {},
   "outputs": [
    {
     "name": "stdout",
     "output_type": "stream",
     "text": [
      "Index(['和暦', '給付年度', '記号', '重複事例', '種別', '被災学校種', '被災学年', '性別', '場合別1', '場合別2',\n",
      "       '競技種目', '通学方法', '発生場所1', '発生場所2', '遊具等', '災害発生時の状況', '分類カテゴリ_場合別2'],\n",
      "      dtype='object')\n",
      "   和暦  給付年度    記号  重複事例        種別 被災学校種  被災学年 性別  場合別1      場合別2  競技種目 通学方法  \\\n",
      "0  平成    17  17死1  17供1        溺死     小     1  男  各教科等  体育（保健体育）    水泳  NaN   \n",
      "1  平成    17  17死2   NaN  中枢神経系突然死     小     1  女  各教科等  体育（保健体育）  鉄棒運動  NaN   \n",
      "2  平成    17  17死3   NaN    心臓系突然死     小     6  女  各教科等  体育（保健体育）  短距離走  NaN   \n",
      "\n",
      "             発生場所1       発生場所2  遊具等  \\\n",
      "0          学校外（園外）          道路  NaN   \n",
      "1  学校内・校舎外（園内・園舎外）  運動場・校庭（園庭）   鉄棒   \n",
      "2  学校内・校舎外（園内・園舎外）  運動場・校庭（園庭）  NaN   \n",
      "\n",
      "                                            災害発生時の状況 分類カテゴリ_場合別2  \n",
      "0  体育授業中、近くの温水プールでの水泳学習を終え、準備のできた児童から学校へ戻っていたが、当時...     授業と休憩時間  \n",
      "1  体育の授業中、低鉄棒の上に腰をかける体勢から飛び降りる運動をしていた際、鉄棒から前向きに落下...     授業と休憩時間  \n",
      "2  体育の授業中、運動会の１００メートル走の練習として本生徒が１００mを走った際、ゴールした後に...     授業と休憩時間  \n"
     ]
    }
   ],
   "source": [
    "import pandas as pd\n",
    "\n",
    "# ファイル読み込み\n",
    "df_shibou = pd.read_excel(\"変更後_sibou(2025.01.31).xlsx\")\n",
    "\n",
    "# 中身の確認（どの列に事故状況が書かれているか）\n",
    "print(df_shibou.columns)\n",
    "print(df_shibou.head(3))"
   ]
  },
  {
   "cell_type": "code",
   "execution_count": 18,
   "id": "eee69f48-fe25-4c08-b3da-6282e47e426c",
   "metadata": {},
   "outputs": [
    {
     "name": "stdout",
     "output_type": "stream",
     "text": [
      "分類カテゴリ_場合別2\n",
      "授業と休憩時間    494\n",
      "登下校        266\n",
      "部活動        258\n",
      "学校行事        91\n",
      "その他         42\n",
      "Name: count, dtype: int64\n"
     ]
    }
   ],
   "source": [
    "print(df_shibou[\"分類カテゴリ_場合別2\"].value_counts(dropna=False))"
   ]
  },
  {
   "cell_type": "code",
   "execution_count": 19,
   "id": "65cd169f-96f2-41ed-9912-d9f98a0c52ae",
   "metadata": {},
   "outputs": [],
   "source": [
    "# 死亡と障害の分類ごとの件数（Series型として保存）\n",
    "count_sibou = df_shibou[\"分類カテゴリ_場合別2\"].value_counts()\n",
    "count_shougai = df[\"分類カテゴリ_場合別2\"].value_counts()"
   ]
  },
  {
   "cell_type": "code",
   "execution_count": 20,
   "id": "f77bff6b-dab2-4d0f-8f33-f5f53937322d",
   "metadata": {},
   "outputs": [
    {
     "data": {
      "text/plain": [
       "分類カテゴリ_場合別2\n",
       "授業と休憩時間    494\n",
       "登下校        266\n",
       "部活動        258\n",
       "学校行事        91\n",
       "その他         42\n",
       "Name: count, dtype: int64"
      ]
     },
     "execution_count": 20,
     "metadata": {},
     "output_type": "execute_result"
    }
   ],
   "source": [
    "count_sibou"
   ]
  },
  {
   "cell_type": "code",
   "execution_count": 21,
   "id": "fe150013-a4d3-4006-bc64-616c113ee00b",
   "metadata": {},
   "outputs": [
    {
     "data": {
      "text/plain": [
       "分類カテゴリ_場合別2\n",
       "授業と休憩時間    3820\n",
       "部活動        2830\n",
       "登下校         590\n",
       "学校行事        357\n",
       "その他          85\n",
       "Name: count, dtype: int64"
      ]
     },
     "execution_count": 21,
     "metadata": {},
     "output_type": "execute_result"
    }
   ],
   "source": [
    "count_shougai"
   ]
  },
  {
   "cell_type": "code",
   "execution_count": 22,
   "id": "ee9dad0b-f6de-43da-99e6-254140e0a7da",
   "metadata": {},
   "outputs": [],
   "source": [
    "# 合算（indexを自動で揃えて結合）\n",
    "total = count_sibou.add(count_shougai, fill_value=0).astype(int)"
   ]
  },
  {
   "cell_type": "code",
   "execution_count": 23,
   "id": "eb057004-d4fe-47f1-9bc7-0e4e1eedbcbc",
   "metadata": {},
   "outputs": [
    {
     "data": {
      "text/plain": [
       "分類カテゴリ_場合別2\n",
       "その他         127\n",
       "学校行事        448\n",
       "授業と休憩時間    4314\n",
       "登下校         856\n",
       "部活動        3088\n",
       "Name: count, dtype: int64"
      ]
     },
     "execution_count": 23,
     "metadata": {},
     "output_type": "execute_result"
    }
   ],
   "source": [
    "total"
   ]
  },
  {
   "cell_type": "code",
   "execution_count": 24,
   "id": "706cf759-38c4-4981-b751-028cb7fd4fd9",
   "metadata": {},
   "outputs": [],
   "source": [
    "# 合計件数\n",
    "grand_total = total.sum()\n",
    "\n",
    "# 割合計算（％表記）\n",
    "percentage = (total / grand_total * 100).round(1)"
   ]
  },
  {
   "cell_type": "code",
   "execution_count": 25,
   "id": "0a9acdf0-931b-4a55-a159-1431b1699e2b",
   "metadata": {},
   "outputs": [],
   "source": [
    "# DataFrameにまとめる\n",
    "summary_df = pd.DataFrame({\n",
    "    \"死亡件数\": count_sibou,\n",
    "    \"障害件数\": count_shougai,\n",
    "    \"合計\": total,\n",
    "    \"割合（%）\": percentage\n",
    "}).fillna(0).astype({\"死亡件数\": int, \"障害件数\": int, \"合計\": int})"
   ]
  },
  {
   "cell_type": "code",
   "execution_count": 26,
   "id": "29cfdac5-39e8-4fd6-9e1d-f0ac0e973eeb",
   "metadata": {},
   "outputs": [
    {
     "data": {
      "text/html": [
       "<div>\n",
       "<style scoped>\n",
       "    .dataframe tbody tr th:only-of-type {\n",
       "        vertical-align: middle;\n",
       "    }\n",
       "\n",
       "    .dataframe tbody tr th {\n",
       "        vertical-align: top;\n",
       "    }\n",
       "\n",
       "    .dataframe thead th {\n",
       "        text-align: right;\n",
       "    }\n",
       "</style>\n",
       "<table border=\"1\" class=\"dataframe\">\n",
       "  <thead>\n",
       "    <tr style=\"text-align: right;\">\n",
       "      <th></th>\n",
       "      <th>死亡件数</th>\n",
       "      <th>障害件数</th>\n",
       "      <th>合計</th>\n",
       "      <th>割合（%）</th>\n",
       "    </tr>\n",
       "    <tr>\n",
       "      <th>分類カテゴリ_場合別2</th>\n",
       "      <th></th>\n",
       "      <th></th>\n",
       "      <th></th>\n",
       "      <th></th>\n",
       "    </tr>\n",
       "  </thead>\n",
       "  <tbody>\n",
       "    <tr>\n",
       "      <th>その他</th>\n",
       "      <td>42</td>\n",
       "      <td>85</td>\n",
       "      <td>127</td>\n",
       "      <td>1.4</td>\n",
       "    </tr>\n",
       "    <tr>\n",
       "      <th>学校行事</th>\n",
       "      <td>91</td>\n",
       "      <td>357</td>\n",
       "      <td>448</td>\n",
       "      <td>5.1</td>\n",
       "    </tr>\n",
       "    <tr>\n",
       "      <th>授業と休憩時間</th>\n",
       "      <td>494</td>\n",
       "      <td>3820</td>\n",
       "      <td>4314</td>\n",
       "      <td>48.8</td>\n",
       "    </tr>\n",
       "    <tr>\n",
       "      <th>登下校</th>\n",
       "      <td>266</td>\n",
       "      <td>590</td>\n",
       "      <td>856</td>\n",
       "      <td>9.7</td>\n",
       "    </tr>\n",
       "    <tr>\n",
       "      <th>部活動</th>\n",
       "      <td>258</td>\n",
       "      <td>2830</td>\n",
       "      <td>3088</td>\n",
       "      <td>35.0</td>\n",
       "    </tr>\n",
       "  </tbody>\n",
       "</table>\n",
       "</div>"
      ],
      "text/plain": [
       "             死亡件数  障害件数    合計  割合（%）\n",
       "分類カテゴリ_場合別2                         \n",
       "その他            42    85   127    1.4\n",
       "学校行事           91   357   448    5.1\n",
       "授業と休憩時間       494  3820  4314   48.8\n",
       "登下校           266   590   856    9.7\n",
       "部活動           258  2830  3088   35.0"
      ]
     },
     "metadata": {},
     "output_type": "display_data"
    }
   ],
   "source": [
    "import IPython.display as disp\n",
    "disp.display(summary_df)"
   ]
  },
  {
   "cell_type": "code",
   "execution_count": 27,
   "id": "c3510d61-2dd7-4f49-b511-fa5421d0906b",
   "metadata": {},
   "outputs": [],
   "source": [
    "summary_df.to_excel(\"分類別_死亡と障害_件数割合.xlsx\")"
   ]
  },
  {
   "cell_type": "code",
   "execution_count": null,
   "id": "921f8b76-1eaa-42e2-bbda-2d483ce1841b",
   "metadata": {},
   "outputs": [],
   "source": []
  }
 ],
 "metadata": {
  "kernelspec": {
   "display_name": "Python 3 (ipykernel)",
   "language": "python",
   "name": "python3"
  },
  "language_info": {
   "codemirror_mode": {
    "name": "ipython",
    "version": 3
   },
   "file_extension": ".py",
   "mimetype": "text/x-python",
   "name": "python",
   "nbconvert_exporter": "python",
   "pygments_lexer": "ipython3",
   "version": "3.11.8"
  }
 },
 "nbformat": 4,
 "nbformat_minor": 5
}
